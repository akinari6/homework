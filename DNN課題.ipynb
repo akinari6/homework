{
  "nbformat": 4,
  "nbformat_minor": 0,
  "metadata": {
    "accelerator": "GPU",
    "colab": {
      "name": "Untitled1.ipynb",
      "provenance": [],
      "collapsed_sections": []
    },
    "kernelspec": {
      "display_name": "Python 3",
      "name": "python3"
    }
  },
  "cells": [
    {
      "cell_type": "code",
      "metadata": {
        "id": "6hQYpzV1gQAG"
      },
      "source": [
        "import numpy as np\r\n",
        "import matplotlib.pyplot as plt\r\n",
        "import keras\r\n",
        "from keras.datasets import mnist"
      ],
      "execution_count": 1,
      "outputs": []
    },
    {
      "cell_type": "code",
      "metadata": {
        "colab": {
          "base_uri": "https://localhost:8080/"
        },
        "id": "FdrKPZfrgQey",
        "outputId": "279b2735-8e98-45ea-b11a-da69098c76d5"
      },
      "source": [
        "(x_train, t_train), (x_test,t_test) = mnist.load_data()\r\n",
        "x_train  = x_train.reshape(60000, 784)\r\n",
        "x_test   = x_test.reshape(10000, 784)\r\n",
        "x_train  = x_train.astype('float32')\r\n",
        "x_test   = x_test.astype('float32')\r\n",
        "x_train /= 255\r\n",
        "x_test  /= 255\r\n",
        "t_train  = keras.utils.to_categorical(t_train, 10)\r\n",
        "t_test   = keras.utils.to_categorical(t_test, 10)"
      ],
      "execution_count": 2,
      "outputs": [
        {
          "output_type": "stream",
          "text": [
            "Downloading data from https://storage.googleapis.com/tensorflow/tf-keras-datasets/mnist.npz\n",
            "11493376/11490434 [==============================] - 0s 0us/step\n"
          ],
          "name": "stdout"
        }
      ]
    },
    {
      "cell_type": "code",
      "metadata": {
        "id": "T6aro_sSgXDR"
      },
      "source": [
        "def Softmax(a):\r\n",
        "    c=np.max(a)\r\n",
        "    exp_a=np.exp(a-c)\r\n",
        "    sum_a=np.sum(exp_a)\r\n",
        "    y=exp_a/sum_a\r\n",
        "    return y\r\n",
        "\r\n",
        "def ReLu(x):\r\n",
        "    return np.maximum(x,0)\r\n",
        "\r\n",
        "def dReLu(u):\r\n",
        "    tmp=u>=0\r\n",
        "    return tmp.astype('int64')\r\n",
        "\r\n",
        "def cross_entropy(y,t):\r\n",
        "    delta=1e-7\r\n",
        "    return -np.sum(t*np.log(y+delta))"
      ],
      "execution_count": 3,
      "outputs": []
    },
    {
      "cell_type": "code",
      "metadata": {
        "id": "4hCuVQQWgkPJ"
      },
      "source": [
        "class Affine:\r\n",
        "    def __init__(self,w,b,e=0.0001,myu=0.8,l=0.01):\r\n",
        "        self.w=w #重みの行列\r\n",
        "        self.b=b #バイアス（スカラー）\r\n",
        "        self.x=None #入力ベクトル、一個前の層の出力\r\n",
        "        self.u=None #入力の和\r\n",
        "        self.z=None #出力\r\n",
        "        self.dw=None #BPのための重みの更新量\r\n",
        "        self.db=None #BPのためのバイアスの更新量\r\n",
        "        self.delta=None\r\n",
        "        self.e=e #学習率\r\n",
        "        self.myu=myu #モメンタムのパラメーター0.5~0.9\r\n",
        "        self.l=l #重み減衰のパラメーター0.01~0.0001\r\n",
        "        self.w_before=None\r\n",
        "        self.b_before=None\r\n",
        "    \r\n",
        "    def forward(self,x):\r\n",
        "        self.x=x\r\n",
        "        self.u=np.dot(self.w.T,x)+self.b\r\n",
        "        \r\n",
        "    def relu(self):\r\n",
        "        self.z=ReLu(self.u)\r\n",
        "        \r\n",
        "    def softmax(self):\r\n",
        "        self.z=Softmax(self.u)\r\n",
        "        \r\n",
        "    def backward(self,delta,w):\r\n",
        "        self.delta=np.dot(w,delta)*dReLu(self.u)\r\n",
        "        self.dw=np.dot(self.x,self.delta.T)\r\n",
        "        self.db=np.sum(self.delta)\r\n",
        "\r\n",
        "    def set_before(self):\r\n",
        "        self.w_before=self.w.copy()\r\n",
        "        self.b_before=self.b\r\n",
        "        \r\n",
        "    def update(self):\r\n",
        "        self.w=(self.w-self.e*self.dw)\r\n",
        "        self.b=(self.b-self.e*self.db)\r\n",
        "\r\n",
        "    def update_momentum(self):\r\n",
        "      dw_before=self.w-self.w_before\r\n",
        "      db_before=self.b-self.b_before\r\n",
        "\r\n",
        "      self.w=(self.w-self.e*self.dw+self.myu*dw_before)\r\n",
        "      self.b=(self.b-self.e*self.db+self.myu*db_before)\r\n",
        "\r\n",
        "    def update_atte(self): #重み減衰はバイアスには適用しないのが普通\r\n",
        "      self.w=(self.w-self.e*(self.dw+self.l*self.w))\r\n",
        "      self.b=(self.b-self.e*self.db)\r\n",
        "\r\n",
        "    def update_mom_atte(self):\r\n",
        "      dw_before=self.w-self.w_before\r\n",
        "      db_before=self.b-self.b_before\r\n",
        "\r\n",
        "      self.w=(self.w-self.e*(self.dw+self.l*self.w)+self.myu*dw_before)\r\n",
        "      self.b=(self.b-self.e*self.db+self.myu*db_before)\r\n"
      ],
      "execution_count": 4,
      "outputs": []
    },
    {
      "cell_type": "code",
      "metadata": {
        "id": "VYPprDv_gnfA"
      },
      "source": [
        "class OneLayer:\r\n",
        "  def __init__(self,u0,u1):\r\n",
        "    self.params={}\r\n",
        "    self.params['W1']=np.random.rand(u0,u1)*np.sqrt(2/u0)\r\n",
        "    self.params['b1']=np.random.rand()\r\n",
        "\r\n",
        "class ThreeLayers:\r\n",
        "    def __init__(self,u0,u1,u2,u3):\r\n",
        "        self.params={}\r\n",
        "        self.params['W1']=np.random.rand(u0,u1)*np.sqrt(2/u0)\r\n",
        "        self.params['b1']=np.random.rand()\r\n",
        "        self.params['W2']=np.random.rand(u1,u2)*np.sqrt(2/u1)\r\n",
        "        self.params['b2']=np.random.rand()\r\n",
        "        self.params['W3']=np.random.rand(u2,u3)*np.sqrt(2/u2)\r\n",
        "        self.params['b3']=np.random.rand()\r\n",
        "\r\n",
        "class FourLayers:\r\n",
        "  def __init__(self,u0,u1,u2,u3,u4):\r\n",
        "    self.params={}\r\n",
        "    self.params['W1']=np.random.rand(u0,u1)*np.sqrt(2/u0)\r\n",
        "    self.params['b1']=np.random.rand()\r\n",
        "    self.params['W2']=np.random.rand(u1,u2)*np.sqrt(2/u1)\r\n",
        "    self.params['b2']=np.random.rand()\r\n",
        "    self.params['W3']=np.random.rand(u2,u3)*np.sqrt(2/u2)\r\n",
        "    self.params['b3']=np.random.rand()\r\n",
        "    self.params['W4']=np.random.rand(u3,u4)*np.sqrt(2/u3)\r\n",
        "    self.params['b4']=np.random.rand()\r\n",
        "\r\n",
        "class TwoLayers:\r\n",
        "    def __init__(self,u0,u1,u2):\r\n",
        "        self.params={}\r\n",
        "        self.params['W1']=np.random.rand(u0,u1)*np.sqrt(2/u0)\r\n",
        "        self.params['b1']=np.random.rand()\r\n",
        "        self.params['W2']=np.random.rand(u1,u2)*np.sqrt(2/u1)\r\n",
        "        self.params['b2']=np.random.rand()"
      ],
      "execution_count": 8,
      "outputs": []
    },
    {
      "cell_type": "code",
      "metadata": {
        "id": "1zTpdzklhPNO"
      },
      "source": [
        "layers=ThreeLayers(784,50,100,10)\r\n",
        "affine1=Affine(layers.params['W1'],layers.params['b1'])\r\n",
        "affine2=Affine(layers.params['W2'],layers.params['b2'])\r\n",
        "affine3=Affine(layers.params['W3'],layers.params['b3'])"
      ],
      "execution_count": 25,
      "outputs": []
    },
    {
      "cell_type": "code",
      "metadata": {
        "colab": {
          "base_uri": "https://localhost:8080/"
        },
        "id": "sckuuqnRhT-y",
        "outputId": "2154de4f-397a-4d8e-eed1-8169dadd9e8a"
      },
      "source": [
        "times=0\r\n",
        "epoch=20\r\n",
        "list_e=[]\r\n",
        "stop=0\r\n",
        "stop_flag=False\r\n",
        "learning_flag=False\r\n",
        "\r\n",
        "while True:\r\n",
        "    index_train=np.arange(60000)\r\n",
        "    random_index_train=np.random.permutation(index_train)\r\n",
        "    list_e_tmp=[]\r\n",
        "\r\n",
        "    for i in random_index_train:\r\n",
        "        x=x_train[i].reshape(784,1)\r\n",
        "        t=t_train[i].reshape(10,1)\r\n",
        "    \r\n",
        "        affine1.forward(x)\r\n",
        "        affine1.relu()\r\n",
        "    \r\n",
        "        affine2.forward(affine1.z)\r\n",
        "        affine2.relu()\r\n",
        "    \r\n",
        "        affine3.forward(affine2.z)\r\n",
        "        affine3.softmax()\r\n",
        "    \r\n",
        "        affine3.delta=affine3.z-t\r\n",
        "        affine3.dw=np.dot(affine3.x,affine3.delta.T)\r\n",
        "        affine3.db=np.sum(affine3.delta)\r\n",
        "    \r\n",
        "        affine2.backward(affine3.delta,affine3.w)\r\n",
        "        affine1.backward(affine2.delta,affine2.w)\r\n",
        "\r\n",
        "        #if learning_flag:\r\n",
        "          #affine1.update_mom_atte()\r\n",
        "          #affine2.update_mom_atte()\r\n",
        "          #affine3.update_mom_atte()\r\n",
        "        #else:\r\n",
        "          #affine1.update()\r\n",
        "          #affine2.update()\r\n",
        "          #affine3.update()\r\n",
        "\r\n",
        "        \r\n",
        "        #if learning_flag:\r\n",
        "          #affine1.update_momentum()\r\n",
        "          #affine2.update_momentum()\r\n",
        "          #affine3.update_momentum()\r\n",
        "        #else:\r\n",
        "          #affine1.update()\r\n",
        "          #affine2.update()\r\n",
        "          #affine3.update()\r\n",
        "       \r\n",
        "        affine1.update_atte()\r\n",
        "        affine2.update_atte()\r\n",
        "        affine3.update_atte()\r\n",
        "\r\n",
        "        #affine1.update()\r\n",
        "        #affine2.update()\r\n",
        "        #affine3.update()\r\n",
        "\r\n",
        "        list_e_tmp.append(cross_entropy(affine3.z,t))\r\n",
        "        learning_flag=True\r\n",
        "        #affine1.set_before()\r\n",
        "        #affine2.set_before()\r\n",
        "        #affine3.set_before()\r\n",
        "        #print(affine3.z.reshape(1,10))\r\n",
        "    \r\n",
        "    list_e.append(list_e_tmp)\r\n",
        "        \r\n",
        "    times+=1\r\n",
        "    print(times)\r\n",
        "    if times>=epoch:\r\n",
        "        break"
      ],
      "execution_count": 26,
      "outputs": [
        {
          "output_type": "stream",
          "text": [
            "1\n",
            "2\n",
            "3\n",
            "4\n",
            "5\n",
            "6\n",
            "7\n",
            "8\n",
            "9\n",
            "10\n",
            "11\n",
            "12\n",
            "13\n",
            "14\n",
            "15\n",
            "16\n",
            "17\n",
            "18\n",
            "19\n",
            "20\n"
          ],
          "name": "stdout"
        }
      ]
    },
    {
      "cell_type": "code",
      "metadata": {
        "colab": {
          "base_uri": "https://localhost:8080/"
        },
        "id": "2UL5w8LZh4Xz",
        "outputId": "00612d85-69fc-4a8d-fa45-d1728f07e8be"
      },
      "source": [
        "count=0\r\n",
        "for i in range(10000):\r\n",
        "    x=x_test[i].reshape(784,1)\r\n",
        "    t=np.argmax(t_test[i])\r\n",
        "    \r\n",
        "    affine1.forward(x)\r\n",
        "    affine1.relu()\r\n",
        "    affine2.forward(affine1.z)\r\n",
        "    affine2.relu()\r\n",
        "    affine3.forward(affine2.z)\r\n",
        "    affine3.softmax()\r\n",
        "    y=np.argmax(affine3.z)\r\n",
        "    if t==y:\r\n",
        "        count+=1\r\n",
        "\r\n",
        "print(count)\r\n",
        "accuracy=count*100/10000\r\n",
        "print(accuracy)"
      ],
      "execution_count": 27,
      "outputs": [
        {
          "output_type": "stream",
          "text": [
            "9196\n",
            "91.96\n"
          ],
          "name": "stdout"
        }
      ]
    },
    {
      "cell_type": "code",
      "metadata": {
        "colab": {
          "base_uri": "https://localhost:8080/"
        },
        "id": "gPenVzPLT31p",
        "outputId": "eedf873e-2277-407b-f4b1-389a26c0a589"
      },
      "source": [
        "count2=0\r\n",
        "for i in range(60000):\r\n",
        "    x=x_train[i].reshape(784,1)\r\n",
        "    t=np.argmax(t_train[i])\r\n",
        "    affine1.forward(x)\r\n",
        "    affine1.relu()\r\n",
        "    affine2.forward(affine1.z)\r\n",
        "    affine2.relu()\r\n",
        "    affine3.forward(affine2.z)\r\n",
        "    affine3.softmax()\r\n",
        "    y=np.argmax(affine3.z)\r\n",
        "    if t==y:\r\n",
        "        count2+=1\r\n",
        "\r\n",
        "acc=count2*100/60000\r\n",
        "print(acc)\r\n",
        "    "
      ],
      "execution_count": 28,
      "outputs": [
        {
          "output_type": "stream",
          "text": [
            "91.80166666666666\n"
          ],
          "name": "stdout"
        }
      ]
    },
    {
      "cell_type": "code",
      "metadata": {
        "colab": {
          "base_uri": "https://localhost:8080/"
        },
        "id": "zka7GhrXjD8g",
        "outputId": "0f2f1023-bc6b-4c80-ff9a-ae9ae3044f25"
      },
      "source": [
        "d_array=np.array([0.05,0.1,0.15,0.2,0.25])\r\n",
        "\r\n",
        "for d in d_array:\r\n",
        "  count=0\r\n",
        "  for i in range(10000):\r\n",
        "      r=np.random.rand(784)\r\n",
        "      x_noise=x_test[i].copy()\r\n",
        "      x_noise[np.where(r<d)]=np.random.rand()\r\n",
        "      x=x_noise.reshape(784,1)\r\n",
        "      t=np.argmax(t_test[i])\r\n",
        "    \r\n",
        "      affine1.forward(x)\r\n",
        "      affine1.relu()\r\n",
        "      affine2.forward(affine1.z)\r\n",
        "      affine2.relu()\r\n",
        "      affine3.forward(affine2.z)\r\n",
        "      affine3.softmax()\r\n",
        "      y=np.argmax(affine3.z)\r\n",
        "      if t==y:\r\n",
        "          count+=1\r\n",
        "\r\n",
        "  accuracy=count*100/10000\r\n",
        "  print('d:',d,'accu:',accuracy)"
      ],
      "execution_count": 29,
      "outputs": [
        {
          "output_type": "stream",
          "text": [
            "d: 0.05 accu: 91.38\n",
            "d: 0.1 accu: 89.18\n",
            "d: 0.15 accu: 84.15\n",
            "d: 0.2 accu: 78.49\n",
            "d: 0.25 accu: 71.94\n"
          ],
          "name": "stdout"
        }
      ]
    },
    {
      "cell_type": "code",
      "metadata": {
        "id": "V3rI8TbLUHAB"
      },
      "source": [
        "layers1=ThreeLayers(784,200,100,10)\r\n",
        "affine1_1=Affine(layers1.params['W1'],layers1.params['b1'])\r\n",
        "affine1_2=Affine(layers1.params['W2'],layers1.params['b2'])\r\n",
        "affine1_3=Affine(layers1.params['W3'],layers1.params['b3'])"
      ],
      "execution_count": null,
      "outputs": []
    },
    {
      "cell_type": "code",
      "metadata": {
        "colab": {
          "background_save": true,
          "base_uri": "https://localhost:8080/",
          "height": 400
        },
        "id": "gG-NhVzVUIC6",
        "outputId": "eaa71d89-6b6e-4722-c5ac-cec57e738c32"
      },
      "source": [
        "times=0\r\n",
        "epoch=10\r\n",
        "list_e=[]\r\n",
        "stop=0\r\n",
        "stop_flag=False\r\n",
        "learning_flag=False\r\n",
        "\r\n",
        "while True:\r\n",
        "    index_train=np.arange(60000)\r\n",
        "    random_index_train=np.random.permutation(index_train)\r\n",
        "    list_e_tmp=[]\r\n",
        "\r\n",
        "    for i in random_index_train:\r\n",
        "        x=x_train[i].reshape(784,1)\r\n",
        "        t=t_train[i].reshape(10,1)\r\n",
        "    \r\n",
        "        affine1_1.forward(x)\r\n",
        "        affine1_1.relu()\r\n",
        "    \r\n",
        "        affine1_2.forward(affine1_1.z)\r\n",
        "        affine1_2.relu()\r\n",
        "    \r\n",
        "        affine1_3.forward(affine1_2.z)\r\n",
        "        affine1_3.softmax()\r\n",
        "    \r\n",
        "        affine1_3.delta=affine1_3.z-t\r\n",
        "        affine1_3.dw=np.dot(affine1_3.x,affine1_3.delta.T)\r\n",
        "        affine1_3.db=np.sum(affine1_3.delta)\r\n",
        "    \r\n",
        "        affine1_2.backward(affine1_3.delta,affine1_3.w)\r\n",
        "        affine1_1.backward(affine1_2.delta,affine1_2.w)\r\n",
        "\r\n",
        "        if learning_flag:\r\n",
        "          affine1_1.update_mom_atte()\r\n",
        "          affine1_2.update_mom_atte()\r\n",
        "          affine1_3.update_mom_atte()\r\n",
        "        else:\r\n",
        "          affine1_1.update()\r\n",
        "          affine1_2.update()\r\n",
        "          affine1_3.update()\r\n",
        "\r\n",
        "        \r\n",
        "        #if learning_flag:\r\n",
        "          #affine1.update_momentum()\r\n",
        "          #affine2.update_momentum()\r\n",
        "          #affine3.update_momentum()\r\n",
        "        #else:\r\n",
        "          #affine1.update()\r\n",
        "          #affine2.update()\r\n",
        "          #affine3.update()\r\n",
        "       \r\n",
        "        #affine1.update_atte()\r\n",
        "        #affine2.update_atte()\r\n",
        "        #affine3.update_atte()\r\n",
        "\r\n",
        "        #affine1.update()\r\n",
        "        #affine2.update()\r\n",
        "        #affine3.update()\r\n",
        "\r\n",
        "        list_e_tmp.append(cross_entropy(affine1_3.z,t))\r\n",
        "        learning_flag=True\r\n",
        "        affine1_1.set_before()\r\n",
        "        affine1_2.set_before()\r\n",
        "        affine1_3.set_before()\r\n",
        "        #print(affine3.z.reshape(1,10))\r\n",
        "    \r\n",
        "    list_e.append(list_e_tmp)\r\n",
        "        \r\n",
        "    times+=1\r\n",
        "    print(times)\r\n",
        "    if times>=epoch:\r\n",
        "        break"
      ],
      "execution_count": null,
      "outputs": [
        {
          "output_type": "stream",
          "text": [
            "1\n",
            "2\n",
            "3\n",
            "4\n",
            "5\n",
            "6\n",
            "7\n",
            "8\n",
            "9\n",
            "10\n"
          ],
          "name": "stdout"
        }
      ]
    },
    {
      "cell_type": "code",
      "metadata": {
        "id": "sxl76ei-Ux1T",
        "colab": {
          "base_uri": "https://localhost:8080/"
        },
        "outputId": "a5a428f6-5a13-4028-b3c9-bbf34ad3d13a"
      },
      "source": [
        "count=0\r\n",
        "for i in range(10000):\r\n",
        "    x=x_test[i].reshape(784,1)\r\n",
        "    t=np.argmax(t_test[i])\r\n",
        "    \r\n",
        "    affine1_1.forward(x)\r\n",
        "    affine1_1.relu()\r\n",
        "    affine1_2.forward(affine1_1.z)\r\n",
        "    affine1_2.relu()\r\n",
        "    affine1_3.forward(affine1_2.z)\r\n",
        "    affine1_3.softmax()\r\n",
        "    y=np.argmax(affine1_3.z)\r\n",
        "    if t==y:\r\n",
        "        count+=1\r\n",
        "\r\n",
        "print(count)\r\n",
        "accuracy=count*100/10000\r\n",
        "print(accuracy)"
      ],
      "execution_count": 16,
      "outputs": [
        {
          "output_type": "stream",
          "text": [
            "3497\n",
            "34.97\n"
          ],
          "name": "stdout"
        }
      ]
    },
    {
      "cell_type": "code",
      "metadata": {
        "colab": {
          "base_uri": "https://localhost:8080/"
        },
        "id": "foRPi36bb5Sk",
        "outputId": "6636a857-e850-4c08-e586-2c8ded5ef2df"
      },
      "source": [
        "count2=0\r\n",
        "for i in range(60000):\r\n",
        "    x=x_train[i].reshape(784,1)\r\n",
        "    t=np.argmax(t_train[i])\r\n",
        "    affine1_1.forward(x)\r\n",
        "    affine1_1.relu()\r\n",
        "    affine1_2.forward(affine1_1.z)\r\n",
        "    affine1_2.relu()\r\n",
        "    affine1_3.forward(affine1_2.z)\r\n",
        "    affine1_3.softmax()\r\n",
        "    y=np.argmax(affine1_3.z)\r\n",
        "    if t==y:\r\n",
        "        count2+=1\r\n",
        "\r\n",
        "acc=count2*100/60000\r\n",
        "print(acc)\r\n",
        "    "
      ],
      "execution_count": 17,
      "outputs": [
        {
          "output_type": "stream",
          "text": [
            "35.11833333333333\n"
          ],
          "name": "stdout"
        }
      ]
    },
    {
      "cell_type": "code",
      "metadata": {
        "colab": {
          "base_uri": "https://localhost:8080/"
        },
        "id": "PB3Fxoebf36g",
        "outputId": "6696b552-14e4-45ae-d8b7-ac09e7c74044"
      },
      "source": [
        "d_array=np.array([0.05,0.1,0.15,0.2,0.25])\r\n",
        "\r\n",
        "for d in d_array:\r\n",
        "  count=0\r\n",
        "  for i in range(10000):\r\n",
        "      r=np.random.rand(784)\r\n",
        "      x_noise=x_test[i].copy()\r\n",
        "      x_noise[np.where(r<d)]=np.random.rand()\r\n",
        "      x=x_noise.reshape(784,1)\r\n",
        "      t=np.argmax(t_test[i])\r\n",
        "    \r\n",
        "      affine1_1.forward(x)\r\n",
        "      affine1_1.relu()\r\n",
        "      affine1_2.forward(affine1_1.z)\r\n",
        "      affine1_2.relu()\r\n",
        "      affine1_3.forward(affine1_2.z)\r\n",
        "      affine1_3.softmax()\r\n",
        "      y=np.argmax(affine1_3.z)\r\n",
        "      if t==y:\r\n",
        "          count+=1\r\n",
        "\r\n",
        "  accuracy=count*100/10000\r\n",
        "  print('d:',d,'accu:',accuracy)"
      ],
      "execution_count": 23,
      "outputs": [
        {
          "output_type": "stream",
          "text": [
            "d: 0.05 accu: 31.89\n",
            "d: 0.1 accu: 27.89\n",
            "d: 0.15 accu: 25.02\n",
            "d: 0.2 accu: 23.1\n",
            "d: 0.25 accu: 20.52\n"
          ],
          "name": "stdout"
        }
      ]
    },
    {
      "cell_type": "code",
      "metadata": {
        "id": "tkWS1P1Okcmb"
      },
      "source": [
        "layers2=FourLayers(784,50,100,80,10)\r\n",
        "affine2_1=Affine(layers2.params['W1'],layers2.params['b1'])\r\n",
        "affine2_2=Affine(layers2.params['W2'],layers2.params['b2'])\r\n",
        "affine2_3=Affine(layers2.params['W3'],layers2.params['b3'])\r\n",
        "affine2_4=Affine(layers2.params['W4'],layers2.params['b4'])"
      ],
      "execution_count": 15,
      "outputs": []
    },
    {
      "cell_type": "code",
      "metadata": {
        "colab": {
          "base_uri": "https://localhost:8080/"
        },
        "id": "F8EK19OxlRLZ",
        "outputId": "92e45910-c0a4-45bf-d4b0-255b948f1bff"
      },
      "source": [
        "times=0\r\n",
        "epoch=20\r\n",
        "list_e=[]\r\n",
        "learning_flag=False\r\n",
        "\r\n",
        "while True:\r\n",
        "    index_train=np.arange(60000)\r\n",
        "    random_index_train=np.random.permutation(index_train)\r\n",
        "    list_e_tmp=[]\r\n",
        "\r\n",
        "    for i in random_index_train:\r\n",
        "        x=x_train[i].reshape(784,1)\r\n",
        "        t=t_train[i].reshape(10,1)\r\n",
        "    \r\n",
        "        affine2_1.forward(x)\r\n",
        "        affine2_1.relu()\r\n",
        "    \r\n",
        "        affine2_2.forward(affine2_1.z)\r\n",
        "        affine2_2.relu()\r\n",
        "    \r\n",
        "        affine2_3.forward(affine2_2.z)\r\n",
        "        affine2_3.relu()\r\n",
        "\r\n",
        "        affine2_4.forward(affine2_3.z)\r\n",
        "        affine2_4.softmax()\r\n",
        "\r\n",
        "        affine2_4.delta=affine2_4.z-t\r\n",
        "        affine2_4.dw=np.dot(affine2_4.x,affine2_4.delta.T)\r\n",
        "        affine2_4.db=np.sum(affine2_4.delta)\r\n",
        "    \r\n",
        "        affine2_3.backward(affine2_4.delta,affine2_4.w)\r\n",
        "        affine2_2.backward(affine2_3.delta,affine2_3.w)\r\n",
        "        affine2_1.backward(affine2_2.delta,affine2_2.w)\r\n",
        "\r\n",
        "        if learning_flag:\r\n",
        "          affine2_1.update_mom_atte()\r\n",
        "          affine2_2.update_mom_atte()\r\n",
        "          affine2_3.update_mom_atte()\r\n",
        "          affine2_4.update_mom_atte()\r\n",
        "        else:\r\n",
        "          affine2_1.update()\r\n",
        "          affine2_2.update()\r\n",
        "          affine2_3.update()\r\n",
        "          affine2_4.update()\r\n",
        "    \r\n",
        "        list_e_tmp.append(cross_entropy(affine2_4.z,t))\r\n",
        "        affine2_1.set_before()\r\n",
        "        affine2_2.set_before()\r\n",
        "        affine2_3.set_before()\r\n",
        "        affine2_4.set_before()\r\n",
        "        learning_flag=True\r\n",
        "        #print(affine3.z.reshape(1,10))\r\n",
        "    \r\n",
        "    list_e.append(list_e_tmp)\r\n",
        "        \r\n",
        "    times+=1\r\n",
        "    print(times)\r\n",
        "    if times>=epoch:\r\n",
        "        break"
      ],
      "execution_count": 16,
      "outputs": [
        {
          "output_type": "stream",
          "text": [
            "1\n",
            "2\n",
            "3\n",
            "4\n",
            "5\n",
            "6\n",
            "7\n",
            "8\n",
            "9\n",
            "10\n",
            "11\n",
            "12\n",
            "13\n",
            "14\n",
            "15\n",
            "16\n",
            "17\n",
            "18\n",
            "19\n",
            "20\n"
          ],
          "name": "stdout"
        }
      ]
    },
    {
      "cell_type": "code",
      "metadata": {
        "colab": {
          "base_uri": "https://localhost:8080/"
        },
        "id": "gJnVIal1mZk6",
        "outputId": "07e542b7-a780-4494-ce9e-988441bf4996"
      },
      "source": [
        "count=0\r\n",
        "for i in range(10000):\r\n",
        "    x=x_test[i].reshape(784,1)\r\n",
        "    t=np.argmax(t_test[i])\r\n",
        "    \r\n",
        "    affine2_1.forward(x)\r\n",
        "    affine2_1.relu()\r\n",
        "    affine2_2.forward(affine2_1.z)\r\n",
        "    affine2_2.relu()\r\n",
        "    affine2_3.forward(affine2_2.z)\r\n",
        "    affine2_3.relu()\r\n",
        "    affine2_4.forward(affine2_3.z)\r\n",
        "    affine2_4.softmax()\r\n",
        "\r\n",
        "    y=np.argmax(affine2_4.z)\r\n",
        "    if t==y:\r\n",
        "        count+=1\r\n",
        "\r\n",
        "print(count)\r\n",
        "accuracy=count*100/10000\r\n",
        "print(accuracy)"
      ],
      "execution_count": 17,
      "outputs": [
        {
          "output_type": "stream",
          "text": [
            "8767\n",
            "87.67\n"
          ],
          "name": "stdout"
        }
      ]
    },
    {
      "cell_type": "code",
      "metadata": {
        "colab": {
          "base_uri": "https://localhost:8080/"
        },
        "id": "k3oU-k5KbMIh",
        "outputId": "d9260c80-9fb0-4d79-8146-67348fe86592"
      },
      "source": [
        "count2=0\r\n",
        "for i in range(60000):\r\n",
        "    x=x_train[i].reshape(784,1)\r\n",
        "    t=np.argmax(t_train[i])\r\n",
        "    affine2_1.forward(x)\r\n",
        "    affine2_1.relu()\r\n",
        "    affine2_2.forward(affine2_1.z)\r\n",
        "    affine2_2.relu()\r\n",
        "    affine2_3.forward(affine2_2.z)\r\n",
        "    affine2_3.relu()\r\n",
        "    affine2_4.forward(affine2_3.z)\r\n",
        "    affine2_4.softmax()\r\n",
        "    y=np.argmax(affine2_4.z)\r\n",
        "    if t==y:\r\n",
        "        count2+=1\r\n",
        "\r\n",
        "acc=count2*100/60000\r\n",
        "print(acc)"
      ],
      "execution_count": 18,
      "outputs": [
        {
          "output_type": "stream",
          "text": [
            "87.91\n"
          ],
          "name": "stdout"
        }
      ]
    },
    {
      "cell_type": "code",
      "metadata": {
        "colab": {
          "base_uri": "https://localhost:8080/"
        },
        "id": "6FECoTjAoIhb",
        "outputId": "5cfbae5e-eb38-4684-c2eb-20a36ad8c6f9"
      },
      "source": [
        "d_array=np.array([0.05,0.1,0.15,0.2,0.25])\r\n",
        "\r\n",
        "for d in d_array:\r\n",
        "  count=0\r\n",
        "  for i in range(10000):\r\n",
        "      r=np.random.rand(784)\r\n",
        "      x_noise=x_test[i].copy()\r\n",
        "      x_noise[np.where(r<d)]=np.random.rand()\r\n",
        "      x=x_noise.reshape(784,1)\r\n",
        "      t=np.argmax(t_test[i])\r\n",
        "    \r\n",
        "      affine2_1.forward(x)\r\n",
        "      affine2_1.relu()\r\n",
        "      affine2_2.forward(affine2_1.z)\r\n",
        "      affine2_2.relu()\r\n",
        "      affine2_3.forward(affine2_2.z)\r\n",
        "      affine2_3.relu()\r\n",
        "      affine2_4.forward(affine2_3.z)\r\n",
        "      affine2_4.softmax()\r\n",
        "      y=np.argmax(affine2_4.z)\r\n",
        "      if t==y:\r\n",
        "          count+=1\r\n",
        "\r\n",
        "  accuracy=count*100/10000\r\n",
        "  print('d:',d,'accu:',accuracy)"
      ],
      "execution_count": 19,
      "outputs": [
        {
          "output_type": "stream",
          "text": [
            "d: 0.05 accu: 85.6\n",
            "d: 0.1 accu: 74.57\n",
            "d: 0.15 accu: 64.04\n",
            "d: 0.2 accu: 53.44\n",
            "d: 0.25 accu: 47.81\n"
          ],
          "name": "stdout"
        }
      ]
    },
    {
      "cell_type": "code",
      "metadata": {
        "id": "fgSIBWHiOcTc"
      },
      "source": [
        "layers3=TwoLayers(784,100,10)\r\n",
        "affine3_1=Affine(layers3.params['W1'],layers3.params['b1'])\r\n",
        "affine3_2=Affine(layers3.params['W2'],layers3.params['b2'])"
      ],
      "execution_count": 20,
      "outputs": []
    },
    {
      "cell_type": "code",
      "metadata": {
        "colab": {
          "base_uri": "https://localhost:8080/"
        },
        "id": "0O93flWWyNeI",
        "outputId": "c4706142-8a83-42c5-cdb4-122b31313f04"
      },
      "source": [
        "times=0\r\n",
        "epoch=20\r\n",
        "list_e=[]\r\n",
        "learning_flag=False\r\n",
        "\r\n",
        "while True:\r\n",
        "    index_train=np.arange(60000)\r\n",
        "    random_index_train=np.random.permutation(index_train)\r\n",
        "    list_e_tmp=[]\r\n",
        "\r\n",
        "    for i in random_index_train:\r\n",
        "        x=x_train[i].reshape(784,1)\r\n",
        "        t=t_train[i].reshape(10,1)\r\n",
        "    \r\n",
        "        affine3_1.forward(x)\r\n",
        "        affine3_1.relu()\r\n",
        "    \r\n",
        "        affine3_2.forward(affine3_1.z)\r\n",
        "        affine3_2.softmax()\r\n",
        "\r\n",
        "        affine3_2.delta=affine3_2.z-t\r\n",
        "        affine3_2.dw=np.dot(affine3_2.x,affine3_2.delta.T)\r\n",
        "        affine3_2.db=np.sum(affine3_2.delta)\r\n",
        "    \r\n",
        "        affine3_1.backward(affine3_2.delta,affine3_2.w)\r\n",
        "\r\n",
        "        if learning_flag:\r\n",
        "          affine3_1.update_mom_atte()\r\n",
        "          affine3_2.update_mom_atte()\r\n",
        "        else:\r\n",
        "          affine3_1.update()\r\n",
        "          affine3_2.update()\r\n",
        "    \r\n",
        "        list_e_tmp.append(cross_entropy(affine3_2.z,t))\r\n",
        "        affine3_1.set_before()\r\n",
        "        affine3_2.set_before()\r\n",
        "        learning_flag=True\r\n",
        "        #print(affine3.z.reshape(1,10))\r\n",
        "    \r\n",
        "    list_e.append(list_e_tmp)\r\n",
        "        \r\n",
        "    times+=1\r\n",
        "    print(times)\r\n",
        "    if times>=epoch:\r\n",
        "        break"
      ],
      "execution_count": 21,
      "outputs": [
        {
          "output_type": "stream",
          "text": [
            "1\n",
            "2\n",
            "3\n",
            "4\n",
            "5\n",
            "6\n",
            "7\n",
            "8\n",
            "9\n",
            "10\n",
            "11\n",
            "12\n",
            "13\n",
            "14\n",
            "15\n",
            "16\n",
            "17\n",
            "18\n",
            "19\n",
            "20\n"
          ],
          "name": "stdout"
        }
      ]
    },
    {
      "cell_type": "code",
      "metadata": {
        "colab": {
          "base_uri": "https://localhost:8080/"
        },
        "id": "yIgKnMg6ysvH",
        "outputId": "b1db897a-8f69-4dab-85fa-3e9b5b54174b"
      },
      "source": [
        "count=0\r\n",
        "for i in range(10000):\r\n",
        "    x=x_test[i].reshape(784,1)\r\n",
        "    t=np.argmax(t_test[i])\r\n",
        "    \r\n",
        "    affine3_1.forward(x)\r\n",
        "    affine3_1.relu()\r\n",
        "    affine3_2.forward(affine3_1.z)\r\n",
        "    affine3_2.softmax()\r\n",
        "    y=np.argmax(affine3_2.z)\r\n",
        "    if t==y:\r\n",
        "        count+=1\r\n",
        "\r\n",
        "print(count)\r\n",
        "accuracy=count*100/10000\r\n",
        "print(accuracy)"
      ],
      "execution_count": 22,
      "outputs": [
        {
          "output_type": "stream",
          "text": [
            "9144\n",
            "91.44\n"
          ],
          "name": "stdout"
        }
      ]
    },
    {
      "cell_type": "code",
      "metadata": {
        "colab": {
          "base_uri": "https://localhost:8080/"
        },
        "id": "JgiJqycQ1wv0",
        "outputId": "0514db35-7fea-423d-91a6-3166a77692f0"
      },
      "source": [
        "count2=0\r\n",
        "for i in range(60000):\r\n",
        "    x=x_train[i].reshape(784,1)\r\n",
        "    t=np.argmax(t_train[i])\r\n",
        "    affine3_1.forward(x)\r\n",
        "    affine3_1.relu()\r\n",
        "    affine3_2.forward(affine3_1.z)\r\n",
        "    affine3_2.softmax()\r\n",
        "    y=np.argmax(affine3_2.z)\r\n",
        "    if t==y:\r\n",
        "        count2+=1\r\n",
        "\r\n",
        "acc=count2*100/60000\r\n",
        "print(acc)"
      ],
      "execution_count": 23,
      "outputs": [
        {
          "output_type": "stream",
          "text": [
            "91.025\n"
          ],
          "name": "stdout"
        }
      ]
    },
    {
      "cell_type": "code",
      "metadata": {
        "colab": {
          "base_uri": "https://localhost:8080/"
        },
        "id": "F0FIsbuf1dPv",
        "outputId": "d2619a6c-354a-41fe-9aca-f5e411e2c44f"
      },
      "source": [
        "d_array=np.array([0.05,0.1,0.15,0.2,0.25])\r\n",
        "\r\n",
        "for d in d_array:\r\n",
        "  count=0\r\n",
        "  for i in range(10000):\r\n",
        "      r=np.random.rand(784)\r\n",
        "      x_noise=x_test[i].copy()\r\n",
        "      x_noise[np.where(r<d)]=np.random.rand()\r\n",
        "      x=x_noise.reshape(784,1)\r\n",
        "      t=np.argmax(t_test[i])\r\n",
        "    \r\n",
        "      affine3_1.forward(x)\r\n",
        "      affine3_1.relu()\r\n",
        "      affine3_2.forward(affine3_1.z)\r\n",
        "      affine3_2.softmax()\r\n",
        "      y=np.argmax(affine3_2.z)\r\n",
        "      if t==y:\r\n",
        "          count+=1\r\n",
        "\r\n",
        "  accuracy=count*100/10000\r\n",
        "  print('d:',d,'accu:',accuracy)"
      ],
      "execution_count": 24,
      "outputs": [
        {
          "output_type": "stream",
          "text": [
            "d: 0.05 accu: 91.11\n",
            "d: 0.1 accu: 90.07\n",
            "d: 0.15 accu: 87.57\n",
            "d: 0.2 accu: 83.23\n",
            "d: 0.25 accu: 78.09\n"
          ],
          "name": "stdout"
        }
      ]
    },
    {
      "cell_type": "code",
      "metadata": {
        "id": "vQkyWr6R1q6v"
      },
      "source": [
        "layer=OneLayer(784,10)\r\n",
        "affine4_1=Affine(layer.params['W1'],layer.params['b1'])"
      ],
      "execution_count": 9,
      "outputs": []
    },
    {
      "cell_type": "code",
      "metadata": {
        "colab": {
          "base_uri": "https://localhost:8080/"
        },
        "id": "UH9A-zBx-6Xj",
        "outputId": "09fd22c7-f745-4cba-e85d-b4e5d9362894"
      },
      "source": [
        "times=0\r\n",
        "epoch=10\r\n",
        "list_e=[]\r\n",
        "learning_flag=False\r\n",
        "\r\n",
        "while True:\r\n",
        "    index_train=np.arange(60000)\r\n",
        "    random_index_train=np.random.permutation(index_train)\r\n",
        "    list_e_tmp=[]\r\n",
        "\r\n",
        "    for i in random_index_train:\r\n",
        "        x=x_train[i].reshape(784,1)\r\n",
        "        t=t_train[i].reshape(10,1)\r\n",
        "    \r\n",
        "        affine4_1.forward(x)\r\n",
        "        affine4_1.softmax()\r\n",
        "\r\n",
        "        affine4_1.delta=affine4_1.z-t\r\n",
        "        affine4_1.dw=np.dot(affine4_1.x,affine4_1.delta.T)\r\n",
        "        affine4_1.db=np.sum(affine4_1.delta)\r\n",
        "    \r\n",
        "        if learning_flag:\r\n",
        "          affine4_1.update_mom_atte()\r\n",
        "        else:\r\n",
        "          affine4_1.update()\r\n",
        "    \r\n",
        "        list_e_tmp.append(cross_entropy(affine4_1.z,t))\r\n",
        "        affine4_1.set_before()\r\n",
        "        learning_flag=True\r\n",
        "        #print(affine3.z.reshape(1,10))\r\n",
        "    \r\n",
        "    list_e.append(list_e_tmp)\r\n",
        "        \r\n",
        "    times+=1\r\n",
        "    print(times)\r\n",
        "    if times>=epoch:\r\n",
        "        break"
      ],
      "execution_count": 10,
      "outputs": [
        {
          "output_type": "stream",
          "text": [
            "1\n",
            "2\n",
            "3\n",
            "4\n",
            "5\n",
            "6\n",
            "7\n",
            "8\n",
            "9\n",
            "10\n"
          ],
          "name": "stdout"
        }
      ]
    },
    {
      "cell_type": "code",
      "metadata": {
        "colab": {
          "base_uri": "https://localhost:8080/"
        },
        "id": "NbA-IpMH_YGF",
        "outputId": "c6922e06-5f05-47dd-a196-2b00809869f7"
      },
      "source": [
        "count=0\r\n",
        "for i in range(10000):\r\n",
        "    x=x_test[i].reshape(784,1)\r\n",
        "    t=np.argmax(t_test[i])\r\n",
        "    \r\n",
        "    affine4_1.forward(x)\r\n",
        "    affine4_1.softmax()\r\n",
        "    y=np.argmax(affine4_1.z)\r\n",
        "    if t==y:\r\n",
        "        count+=1\r\n",
        "\r\n",
        "print(count)\r\n",
        "accuracy=count*100/10000\r\n",
        "print(accuracy)"
      ],
      "execution_count": 12,
      "outputs": [
        {
          "output_type": "stream",
          "text": [
            "8992\n",
            "89.92\n"
          ],
          "name": "stdout"
        }
      ]
    },
    {
      "cell_type": "code",
      "metadata": {
        "colab": {
          "base_uri": "https://localhost:8080/"
        },
        "id": "K7HxdMf5_eIG",
        "outputId": "4b5db7cd-c460-4d88-cb65-de9e816415b5"
      },
      "source": [
        "count2=0\r\n",
        "for i in range(60000):\r\n",
        "    x=x_train[i].reshape(784,1)\r\n",
        "    t=np.argmax(t_train[i])\r\n",
        "    affine4_1.forward(x)\r\n",
        "    affine4_1.softmax()\r\n",
        "    y=np.argmax(affine4_1.z)\r\n",
        "    if t==y:\r\n",
        "        count2+=1\r\n",
        "\r\n",
        "acc=count2*100/60000\r\n",
        "print(acc)"
      ],
      "execution_count": 13,
      "outputs": [
        {
          "output_type": "stream",
          "text": [
            "89.09833333333333\n"
          ],
          "name": "stdout"
        }
      ]
    },
    {
      "cell_type": "code",
      "metadata": {
        "colab": {
          "base_uri": "https://localhost:8080/"
        },
        "id": "MpZQAONG_jvG",
        "outputId": "4ea9defb-b9c6-4df6-f6c5-ffabb159d744"
      },
      "source": [
        "d_array=np.array([0.05,0.1,0.15,0.2,0.25])\r\n",
        "\r\n",
        "for d in d_array:\r\n",
        "  count=0\r\n",
        "  for i in range(10000):\r\n",
        "      r=np.random.rand(784)\r\n",
        "      x_noise=x_test[i].copy()\r\n",
        "      x_noise[np.where(r<d)]=np.random.rand()\r\n",
        "      x=x_noise.reshape(784,1)\r\n",
        "      t=np.argmax(t_test[i])\r\n",
        "    \r\n",
        "      affine4_1.forward(x)\r\n",
        "      affine4_1.softmax()\r\n",
        "      y=np.argmax(affine4_1.z)\r\n",
        "      if t==y:\r\n",
        "          count+=1\r\n",
        "\r\n",
        "  accuracy=count*100/10000\r\n",
        "  print('d:',d,'accu:',accuracy)"
      ],
      "execution_count": 14,
      "outputs": [
        {
          "output_type": "stream",
          "text": [
            "d: 0.05 accu: 89.58\n",
            "d: 0.1 accu: 88.95\n",
            "d: 0.15 accu: 88.6\n",
            "d: 0.2 accu: 87.19\n",
            "d: 0.25 accu: 84.59\n"
          ],
          "name": "stdout"
        }
      ]
    },
    {
      "cell_type": "code",
      "metadata": {
        "id": "rvO377F4Atzh"
      },
      "source": [
        ""
      ],
      "execution_count": null,
      "outputs": []
    }
  ]
}