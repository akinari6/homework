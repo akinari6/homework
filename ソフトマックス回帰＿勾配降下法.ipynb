{
 "cells": [
  {
   "cell_type": "code",
   "execution_count": 30,
   "metadata": {},
   "outputs": [],
   "source": [
    "import numpy as np\n",
    "import pandas as pd\n",
    "from sklearn.datasets import load_wine\n",
    "import scipy\n",
    "from sklearn.model_selection import train_test_split\n",
    "import matplotlib as mpl\n",
    "import seaborn as sns\n",
    "import matplotlib.pyplot as plt\n",
    "%matplotlib inline"
   ]
  },
  {
   "cell_type": "code",
   "execution_count": 48,
   "metadata": {},
   "outputs": [],
   "source": [
    "data,targets=load_wine(return_X_y=True)\n",
    "data_normalized=scipy.stats.zscore(data)\n",
    "data_train,data_test,target_train,target_test=train_test_split(data_normalized,targets,test_size=0.5,random_state=1)\n",
    "#データを正規化したうえ分ける"
   ]
  },
  {
   "cell_type": "code",
   "execution_count": 49,
   "metadata": {},
   "outputs": [
    {
     "name": "stdout",
     "output_type": "stream",
     "text": [
      "89 13 89\n"
     ]
    }
   ],
   "source": [
    "number,d=data_train.shape\n",
    "number_test,_=data_test.shape\n",
    "print(number,d,number_test)"
   ]
  },
  {
   "cell_type": "code",
   "execution_count": 50,
   "metadata": {},
   "outputs": [],
   "source": [
    "def softmax_return_array(a):\n",
    "    a_max=max(a)\n",
    "    x=np.exp(a-a_max)\n",
    "    u=np.sum(x)\n",
    "    return x/u\n",
    "#ソフトマックス関数、発散しないように最大値を引いてからexpにかける"
   ]
  },
  {
   "cell_type": "code",
   "execution_count": 51,
   "metadata": {},
   "outputs": [],
   "source": [
    "w=np.random.rand(d,3)\n",
    "T=np.zeros((number,3))\n",
    "for i in range(number):\n",
    "    if target_train[i]==0:\n",
    "        T[i][0]=1\n",
    "    elif target_train[i]==1:\n",
    "        T[i][1]=1\n",
    "    elif target_train[i]==2:\n",
    "        T[i][2]=1\n",
    "P=np.zeros((number,3))\n",
    "#パラメータの初期値はランダムに選ぶ、one-of-K符号化法でクラスを表す"
   ]
  },
  {
   "cell_type": "code",
   "execution_count": 52,
   "metadata": {},
   "outputs": [],
   "source": [
    "times=0\n",
    "max_times=1000\n",
    "learning_rate=0.3\n",
    "correct_numbers=[]\n",
    "while True:\n",
    "    y=np.dot(data_train,w)\n",
    "    for i in range(number):\n",
    "        P[i]=softmax_return_array(y[i])\n",
    "    max_index=np.argmax(P,axis=1)\n",
    "    correct_matrix=(max_index==target_train)\n",
    "    correct=np.sum(correct_matrix.astype(np.int))\n",
    "    correct_numbers.append(correct)\n",
    "    if correct==number:\n",
    "        break\n",
    "        \n",
    "    delta_J=np.dot(data_train.T,P-T)\n",
    "    w=w-learning_rate*delta_J\n",
    "    times+=1\n",
    "    if times>max_times:\n",
    "        break"
   ]
  },
  {
   "cell_type": "code",
   "execution_count": 53,
   "metadata": {},
   "outputs": [
    {
     "name": "stdout",
     "output_type": "stream",
     "text": [
      "正解率は:  35.95505617977528 %\n"
     ]
    }
   ],
   "source": [
    "y_test=np.dot(data_test,w)\n",
    "P_test=np.zeros((number_train,3))\n",
    "for i in range(number_train):\n",
    "    P_test[i]=softmax_return_array(y[i])\n",
    "max_index=np.argmax(P_test,axis=1)\n",
    "correct_matrix=(max_index==target_test)\n",
    "correct=np.sum(correct_matrix.astype(np.int))\n",
    "print('正解率は: ',correct/number_test*100,'%')"
   ]
  },
  {
   "cell_type": "code",
   "execution_count": 54,
   "metadata": {},
   "outputs": [],
   "source": [
    "rate=np.array(correct_numbers)/number*100"
   ]
  },
  {
   "cell_type": "code",
   "execution_count": 55,
   "metadata": {},
   "outputs": [
    {
     "data": {
      "text/plain": [
       "[<matplotlib.lines.Line2D at 0x16e4eb068b0>]"
      ]
     },
     "execution_count": 55,
     "metadata": {},
     "output_type": "execute_result"
    },
    {
     "data": {
      "image/png": "[encoded data removed]",
      "text/plain": [
       "<Figure size 432x288 with 1 Axes>"
      ]
     },
     "metadata": {
      "needs_background": "light"
     },
     "output_type": "display_data"
    }
   ],
   "source": [
    "plt.plot(rate)"
   ]
  },
  {
   "cell_type": "code",
   "execution_count": null,
   "metadata": {},
   "outputs": [],
   "source": []
  }
 ],
 "metadata": {
  "kernelspec": {
   "display_name": "Python 3",
   "language": "python",
   "name": "python3"
  },
  "language_info": {
   "codemirror_mode": {
    "name": "ipython",
    "version": 3
   },
   "file_extension": ".py",
   "mimetype": "text/x-python",
   "name": "python",
   "nbconvert_exporter": "python",
   "pygments_lexer": "ipython3",
   "version": "3.8.3"
  }
 },
 "nbformat": 4,
 "nbformat_minor": 4
}
